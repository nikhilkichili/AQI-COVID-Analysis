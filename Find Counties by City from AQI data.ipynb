{
 "cells": [
  {
   "cell_type": "code",
   "execution_count": 1,
   "id": "ca203216",
   "metadata": {},
   "outputs": [],
   "source": [
    "# Import required libraries\n",
    "import pandas as pd\n",
    "import numpy as np\n",
    "import matplotlib.pyplot as plt\n",
    "import seaborn as sns\n",
    "import aqi as aqi"
   ]
  },
  {
   "cell_type": "code",
   "execution_count": 2,
   "id": "b88e3505",
   "metadata": {},
   "outputs": [
    {
     "data": {
      "text/plain": [
       "(5169, 9)"
      ]
     },
     "execution_count": 2,
     "metadata": {},
     "output_type": "execute_result"
    }
   ],
   "source": [
    "df_2019 = pd.read_csv('/Users/nkichili/Desktop/Synopsys/waqi-covid19-airqualitydata-2019Q1.csv')\n",
    "df_2019_USA = df_2019.loc[df_2019['Country'] == 'US']\n",
    "cols = ['Date','Country','City','Specie','median']\n",
    "df_2019_USA_5 = df_2019_USA[cols]\n",
    "df_2019_USA_PV = df_2019_USA_5.pivot(index=['Date','Country','City'], columns='Specie', values='median').reset_index()\n",
    "df_2019_USA_POLLUTANT = df_2019_USA_PV[['Date','Country','City', 'co', 'no2', 'o3', 'pm10', 'pm25', 'so2']]\n",
    "\n",
    "#df_city = df_2019_USA_POLLUTANT[df_2019_USA_POLLUTANT['City'] == 'Albuquerque']\n",
    "df_2019_USA_POLLUTANT.shape\n"
   ]
  },
  {
   "cell_type": "code",
   "execution_count": 3,
   "id": "d3304847",
   "metadata": {},
   "outputs": [
    {
     "data": {
      "text/html": [
       "<div>\n",
       "<style scoped>\n",
       "    .dataframe tbody tr th:only-of-type {\n",
       "        vertical-align: middle;\n",
       "    }\n",
       "\n",
       "    .dataframe tbody tr th {\n",
       "        vertical-align: top;\n",
       "    }\n",
       "\n",
       "    .dataframe thead th {\n",
       "        text-align: right;\n",
       "    }\n",
       "</style>\n",
       "<table border=\"1\" class=\"dataframe\">\n",
       "  <thead>\n",
       "    <tr style=\"text-align: right;\">\n",
       "      <th>Specie</th>\n",
       "      <th>Date</th>\n",
       "      <th>Country</th>\n",
       "      <th>City</th>\n",
       "      <th>co</th>\n",
       "      <th>no2</th>\n",
       "      <th>o3</th>\n",
       "      <th>pm10</th>\n",
       "      <th>pm25</th>\n",
       "      <th>so2</th>\n",
       "    </tr>\n",
       "  </thead>\n",
       "  <tbody>\n",
       "    <tr>\n",
       "      <th>0</th>\n",
       "      <td>2018-12-31</td>\n",
       "      <td>US</td>\n",
       "      <td>Albuquerque</td>\n",
       "      <td>3.0</td>\n",
       "      <td>16.7</td>\n",
       "      <td>16.8</td>\n",
       "      <td>21.0</td>\n",
       "      <td>40.0</td>\n",
       "      <td>1.5</td>\n",
       "    </tr>\n",
       "    <tr>\n",
       "      <th>1</th>\n",
       "      <td>2018-12-31</td>\n",
       "      <td>US</td>\n",
       "      <td>Atlanta</td>\n",
       "      <td>1.8</td>\n",
       "      <td>2.8</td>\n",
       "      <td>15.2</td>\n",
       "      <td>12.0</td>\n",
       "      <td>27.0</td>\n",
       "      <td>NaN</td>\n",
       "    </tr>\n",
       "    <tr>\n",
       "      <th>2</th>\n",
       "      <td>2018-12-31</td>\n",
       "      <td>US</td>\n",
       "      <td>Austin</td>\n",
       "      <td>NaN</td>\n",
       "      <td>NaN</td>\n",
       "      <td>4.0</td>\n",
       "      <td>NaN</td>\n",
       "      <td>21.0</td>\n",
       "      <td>NaN</td>\n",
       "    </tr>\n",
       "    <tr>\n",
       "      <th>3</th>\n",
       "      <td>2018-12-31</td>\n",
       "      <td>US</td>\n",
       "      <td>Baltimore</td>\n",
       "      <td>NaN</td>\n",
       "      <td>13.0</td>\n",
       "      <td>12.8</td>\n",
       "      <td>21.0</td>\n",
       "      <td>50.0</td>\n",
       "      <td>NaN</td>\n",
       "    </tr>\n",
       "    <tr>\n",
       "      <th>4</th>\n",
       "      <td>2018-12-31</td>\n",
       "      <td>US</td>\n",
       "      <td>Boise</td>\n",
       "      <td>4.5</td>\n",
       "      <td>NaN</td>\n",
       "      <td>24.9</td>\n",
       "      <td>7.0</td>\n",
       "      <td>9.0</td>\n",
       "      <td>0.8</td>\n",
       "    </tr>\n",
       "  </tbody>\n",
       "</table>\n",
       "</div>"
      ],
      "text/plain": [
       "Specie        Date Country         City   co   no2    o3  pm10  pm25  so2\n",
       "0       2018-12-31      US  Albuquerque  3.0  16.7  16.8  21.0  40.0  1.5\n",
       "1       2018-12-31      US      Atlanta  1.8   2.8  15.2  12.0  27.0  NaN\n",
       "2       2018-12-31      US       Austin  NaN   NaN   4.0   NaN  21.0  NaN\n",
       "3       2018-12-31      US    Baltimore  NaN  13.0  12.8  21.0  50.0  NaN\n",
       "4       2018-12-31      US        Boise  4.5   NaN  24.9   7.0   9.0  0.8"
      ]
     },
     "execution_count": 3,
     "metadata": {},
     "output_type": "execute_result"
    }
   ],
   "source": [
    "df_2019_USA_POLLUTANT.head()"
   ]
  },
  {
   "cell_type": "code",
   "execution_count": 4,
   "id": "fda56094",
   "metadata": {},
   "outputs": [
    {
     "name": "stdout",
     "output_type": "stream",
     "text": [
      "<class 'pandas.core.frame.DataFrame'>\n",
      "RangeIndex: 5169 entries, 0 to 5168\n",
      "Data columns (total 9 columns):\n",
      " #   Column   Non-Null Count  Dtype  \n",
      "---  ------   --------------  -----  \n",
      " 0   Date     5169 non-null   object \n",
      " 1   Country  5169 non-null   object \n",
      " 2   City     5169 non-null   object \n",
      " 3   co       3489 non-null   float64\n",
      " 4   no2      3389 non-null   float64\n",
      " 5   o3       4807 non-null   float64\n",
      " 6   pm10     2266 non-null   float64\n",
      " 7   pm25     5107 non-null   float64\n",
      " 8   so2      1890 non-null   float64\n",
      "dtypes: float64(6), object(3)\n",
      "memory usage: 363.6+ KB\n"
     ]
    }
   ],
   "source": [
    "df_2019_USA_POLLUTANT.info()"
   ]
  },
  {
   "cell_type": "code",
   "execution_count": 5,
   "id": "a04c4d99",
   "metadata": {},
   "outputs": [],
   "source": [
    "df_city_county = pd.read_csv('/Users/nkichili/Desktop/Synopsys/uscities_county.csv')\n",
    "df_city_county = df_city_county.rename(columns={\"city\": \"City\"})"
   ]
  },
  {
   "cell_type": "code",
   "execution_count": 14,
   "id": "5c4f3403",
   "metadata": {},
   "outputs": [
    {
     "name": "stdout",
     "output_type": "stream",
     "text": [
      "<class 'pandas.core.frame.DataFrame'>\n",
      "RangeIndex: 28338 entries, 0 to 28337\n",
      "Data columns (total 2 columns):\n",
      " #   Column       Non-Null Count  Dtype \n",
      "---  ------       --------------  ----- \n",
      " 0   City         28338 non-null  object\n",
      " 1   county_name  28338 non-null  object\n",
      "dtypes: object(2)\n",
      "memory usage: 442.9+ KB\n"
     ]
    }
   ],
   "source": [
    "df_city_county.info()"
   ]
  },
  {
   "cell_type": "code",
   "execution_count": 6,
   "id": "ac58911f",
   "metadata": {},
   "outputs": [
    {
     "data": {
      "text/html": [
       "<div>\n",
       "<style scoped>\n",
       "    .dataframe tbody tr th:only-of-type {\n",
       "        vertical-align: middle;\n",
       "    }\n",
       "\n",
       "    .dataframe tbody tr th {\n",
       "        vertical-align: top;\n",
       "    }\n",
       "\n",
       "    .dataframe thead th {\n",
       "        text-align: right;\n",
       "    }\n",
       "</style>\n",
       "<table border=\"1\" class=\"dataframe\">\n",
       "  <thead>\n",
       "    <tr style=\"text-align: right;\">\n",
       "      <th></th>\n",
       "      <th>City</th>\n",
       "      <th>county_name</th>\n",
       "    </tr>\n",
       "  </thead>\n",
       "  <tbody>\n",
       "    <tr>\n",
       "      <th>0</th>\n",
       "      <td>New York</td>\n",
       "      <td>New York</td>\n",
       "    </tr>\n",
       "    <tr>\n",
       "      <th>1</th>\n",
       "      <td>Los Angeles</td>\n",
       "      <td>Los Angeles</td>\n",
       "    </tr>\n",
       "    <tr>\n",
       "      <th>2</th>\n",
       "      <td>Chicago</td>\n",
       "      <td>Cook</td>\n",
       "    </tr>\n",
       "    <tr>\n",
       "      <th>3</th>\n",
       "      <td>Miami</td>\n",
       "      <td>Miami-Dade</td>\n",
       "    </tr>\n",
       "    <tr>\n",
       "      <th>4</th>\n",
       "      <td>Dallas</td>\n",
       "      <td>Dallas</td>\n",
       "    </tr>\n",
       "  </tbody>\n",
       "</table>\n",
       "</div>"
      ],
      "text/plain": [
       "          City  county_name\n",
       "0     New York     New York\n",
       "1  Los Angeles  Los Angeles\n",
       "2      Chicago         Cook\n",
       "3        Miami   Miami-Dade\n",
       "4       Dallas       Dallas"
      ]
     },
     "execution_count": 6,
     "metadata": {},
     "output_type": "execute_result"
    }
   ],
   "source": [
    "df_city_county.head()"
   ]
  },
  {
   "cell_type": "code",
   "execution_count": 7,
   "id": "be094046",
   "metadata": {},
   "outputs": [
    {
     "data": {
      "text/html": [
       "<div>\n",
       "<style scoped>\n",
       "    .dataframe tbody tr th:only-of-type {\n",
       "        vertical-align: middle;\n",
       "    }\n",
       "\n",
       "    .dataframe tbody tr th {\n",
       "        vertical-align: top;\n",
       "    }\n",
       "\n",
       "    .dataframe thead th {\n",
       "        text-align: right;\n",
       "    }\n",
       "</style>\n",
       "<table border=\"1\" class=\"dataframe\">\n",
       "  <thead>\n",
       "    <tr style=\"text-align: right;\">\n",
       "      <th></th>\n",
       "      <th>Date</th>\n",
       "      <th>Country</th>\n",
       "      <th>City</th>\n",
       "      <th>co</th>\n",
       "      <th>no2</th>\n",
       "      <th>o3</th>\n",
       "      <th>pm10</th>\n",
       "      <th>pm25</th>\n",
       "      <th>so2</th>\n",
       "      <th>county_name</th>\n",
       "    </tr>\n",
       "  </thead>\n",
       "  <tbody>\n",
       "    <tr>\n",
       "      <th>0</th>\n",
       "      <td>2018-12-31</td>\n",
       "      <td>US</td>\n",
       "      <td>Albuquerque</td>\n",
       "      <td>3.0</td>\n",
       "      <td>16.7</td>\n",
       "      <td>16.8</td>\n",
       "      <td>21.0</td>\n",
       "      <td>40.0</td>\n",
       "      <td>1.5</td>\n",
       "      <td>Bernalillo</td>\n",
       "    </tr>\n",
       "    <tr>\n",
       "      <th>1</th>\n",
       "      <td>2018-12-31</td>\n",
       "      <td>US</td>\n",
       "      <td>Atlanta</td>\n",
       "      <td>1.8</td>\n",
       "      <td>2.8</td>\n",
       "      <td>15.2</td>\n",
       "      <td>12.0</td>\n",
       "      <td>27.0</td>\n",
       "      <td>NaN</td>\n",
       "      <td>Fulton</td>\n",
       "    </tr>\n",
       "    <tr>\n",
       "      <th>2</th>\n",
       "      <td>2018-12-31</td>\n",
       "      <td>US</td>\n",
       "      <td>Atlanta</td>\n",
       "      <td>1.8</td>\n",
       "      <td>2.8</td>\n",
       "      <td>15.2</td>\n",
       "      <td>12.0</td>\n",
       "      <td>27.0</td>\n",
       "      <td>NaN</td>\n",
       "      <td>Cass</td>\n",
       "    </tr>\n",
       "    <tr>\n",
       "      <th>3</th>\n",
       "      <td>2018-12-31</td>\n",
       "      <td>US</td>\n",
       "      <td>Atlanta</td>\n",
       "      <td>1.8</td>\n",
       "      <td>2.8</td>\n",
       "      <td>15.2</td>\n",
       "      <td>12.0</td>\n",
       "      <td>27.0</td>\n",
       "      <td>NaN</td>\n",
       "      <td>Logan</td>\n",
       "    </tr>\n",
       "    <tr>\n",
       "      <th>4</th>\n",
       "      <td>2018-12-31</td>\n",
       "      <td>US</td>\n",
       "      <td>Atlanta</td>\n",
       "      <td>1.8</td>\n",
       "      <td>2.8</td>\n",
       "      <td>15.2</td>\n",
       "      <td>12.0</td>\n",
       "      <td>27.0</td>\n",
       "      <td>NaN</td>\n",
       "      <td>Hamilton</td>\n",
       "    </tr>\n",
       "    <tr>\n",
       "      <th>...</th>\n",
       "      <td>...</td>\n",
       "      <td>...</td>\n",
       "      <td>...</td>\n",
       "      <td>...</td>\n",
       "      <td>...</td>\n",
       "      <td>...</td>\n",
       "      <td>...</td>\n",
       "      <td>...</td>\n",
       "      <td>...</td>\n",
       "      <td>...</td>\n",
       "    </tr>\n",
       "    <tr>\n",
       "      <th>195</th>\n",
       "      <td>2018-12-31</td>\n",
       "      <td>US</td>\n",
       "      <td>Nashville</td>\n",
       "      <td>NaN</td>\n",
       "      <td>NaN</td>\n",
       "      <td>0.8</td>\n",
       "      <td>NaN</td>\n",
       "      <td>20.0</td>\n",
       "      <td>NaN</td>\n",
       "      <td>Kingman</td>\n",
       "    </tr>\n",
       "    <tr>\n",
       "      <th>196</th>\n",
       "      <td>2018-12-31</td>\n",
       "      <td>US</td>\n",
       "      <td>Oakland</td>\n",
       "      <td>2.6</td>\n",
       "      <td>3.8</td>\n",
       "      <td>25.6</td>\n",
       "      <td>NaN</td>\n",
       "      <td>13.0</td>\n",
       "      <td>1.5</td>\n",
       "      <td>Alameda</td>\n",
       "    </tr>\n",
       "    <tr>\n",
       "      <th>197</th>\n",
       "      <td>2018-12-31</td>\n",
       "      <td>US</td>\n",
       "      <td>Oakland</td>\n",
       "      <td>2.6</td>\n",
       "      <td>3.8</td>\n",
       "      <td>25.6</td>\n",
       "      <td>NaN</td>\n",
       "      <td>13.0</td>\n",
       "      <td>1.5</td>\n",
       "      <td>Bergen</td>\n",
       "    </tr>\n",
       "    <tr>\n",
       "      <th>198</th>\n",
       "      <td>2018-12-31</td>\n",
       "      <td>US</td>\n",
       "      <td>Oakland</td>\n",
       "      <td>2.6</td>\n",
       "      <td>3.8</td>\n",
       "      <td>25.6</td>\n",
       "      <td>NaN</td>\n",
       "      <td>13.0</td>\n",
       "      <td>1.5</td>\n",
       "      <td>Fayette</td>\n",
       "    </tr>\n",
       "    <tr>\n",
       "      <th>199</th>\n",
       "      <td>2018-12-31</td>\n",
       "      <td>US</td>\n",
       "      <td>Oakland</td>\n",
       "      <td>2.6</td>\n",
       "      <td>3.8</td>\n",
       "      <td>25.6</td>\n",
       "      <td>NaN</td>\n",
       "      <td>13.0</td>\n",
       "      <td>1.5</td>\n",
       "      <td>Orange</td>\n",
       "    </tr>\n",
       "  </tbody>\n",
       "</table>\n",
       "<p>200 rows × 10 columns</p>\n",
       "</div>"
      ],
      "text/plain": [
       "           Date Country         City   co   no2    o3  pm10  pm25  so2  \\\n",
       "0    2018-12-31      US  Albuquerque  3.0  16.7  16.8  21.0  40.0  1.5   \n",
       "1    2018-12-31      US      Atlanta  1.8   2.8  15.2  12.0  27.0  NaN   \n",
       "2    2018-12-31      US      Atlanta  1.8   2.8  15.2  12.0  27.0  NaN   \n",
       "3    2018-12-31      US      Atlanta  1.8   2.8  15.2  12.0  27.0  NaN   \n",
       "4    2018-12-31      US      Atlanta  1.8   2.8  15.2  12.0  27.0  NaN   \n",
       "..          ...     ...          ...  ...   ...   ...   ...   ...  ...   \n",
       "195  2018-12-31      US    Nashville  NaN   NaN   0.8   NaN  20.0  NaN   \n",
       "196  2018-12-31      US      Oakland  2.6   3.8  25.6   NaN  13.0  1.5   \n",
       "197  2018-12-31      US      Oakland  2.6   3.8  25.6   NaN  13.0  1.5   \n",
       "198  2018-12-31      US      Oakland  2.6   3.8  25.6   NaN  13.0  1.5   \n",
       "199  2018-12-31      US      Oakland  2.6   3.8  25.6   NaN  13.0  1.5   \n",
       "\n",
       "    county_name  \n",
       "0    Bernalillo  \n",
       "1        Fulton  \n",
       "2          Cass  \n",
       "3         Logan  \n",
       "4      Hamilton  \n",
       "..          ...  \n",
       "195     Kingman  \n",
       "196     Alameda  \n",
       "197      Bergen  \n",
       "198     Fayette  \n",
       "199      Orange  \n",
       "\n",
       "[200 rows x 10 columns]"
      ]
     },
     "execution_count": 7,
     "metadata": {},
     "output_type": "execute_result"
    }
   ],
   "source": [
    "#df_2019_USA_POLLUTANT.set_index('City')\n",
    "#df_city_county.set_index('City')\n",
    "# Merge AQI and Covid data on Date and County\n",
    "df_merged = pd.merge(df_2019_USA_POLLUTANT, df_city_county, how='left', on=['City'])\n",
    "\n",
    "#df_merged = df_2019_USA_POLLUTANT.merge(df_city_county, on=['City'], how='inner')\n",
    "df_merged.head(200)"
   ]
  },
  {
   "cell_type": "code",
   "execution_count": 17,
   "id": "fa844735",
   "metadata": {},
   "outputs": [
    {
     "name": "stdout",
     "output_type": "stream",
     "text": [
      "<class 'pandas.core.frame.DataFrame'>\n",
      "Int64Index: 28943 entries, 0 to 28942\n",
      "Data columns (total 10 columns):\n",
      " #   Column       Non-Null Count  Dtype  \n",
      "---  ------       --------------  -----  \n",
      " 0   Date         28943 non-null  object \n",
      " 1   Country      28943 non-null  object \n",
      " 2   City         28943 non-null  object \n",
      " 3   co           15913 non-null  float64\n",
      " 4   no2          15662 non-null  float64\n",
      " 5   o3           23177 non-null  float64\n",
      " 6   pm10         9533 non-null   float64\n",
      " 7   pm25         28570 non-null  float64\n",
      " 8   so2          10482 non-null  float64\n",
      " 9   county_name  28670 non-null  object \n",
      "dtypes: float64(6), object(4)\n",
      "memory usage: 2.4+ MB\n"
     ]
    }
   ],
   "source": [
    "df_merged.info()"
   ]
  },
  {
   "cell_type": "code",
   "execution_count": 89,
   "id": "eeea98f2",
   "metadata": {},
   "outputs": [
    {
     "name": "stderr",
     "output_type": "stream",
     "text": [
      "/var/folders/dr/dd4yfyn51lxdhh0dqg_f3dvh0000gq/T/ipykernel_7446/724232750.py:2: FutureWarning: In a future version of pandas all arguments of DataFrame.drop except for the argument 'labels' will be keyword-only\n",
      "  df_merged_right = (pd.merge(df_2019_USA_POLLUTANT, df_city_county, on=['City'], how='left', indicator=True)\n"
     ]
    },
    {
     "data": {
      "text/html": [
       "<div>\n",
       "<style scoped>\n",
       "    .dataframe tbody tr th:only-of-type {\n",
       "        vertical-align: middle;\n",
       "    }\n",
       "\n",
       "    .dataframe tbody tr th {\n",
       "        vertical-align: top;\n",
       "    }\n",
       "\n",
       "    .dataframe thead th {\n",
       "        text-align: right;\n",
       "    }\n",
       "</style>\n",
       "<table border=\"1\" class=\"dataframe\">\n",
       "  <thead>\n",
       "    <tr style=\"text-align: right;\">\n",
       "      <th></th>\n",
       "      <th>Date</th>\n",
       "      <th>Country</th>\n",
       "      <th>City</th>\n",
       "      <th>co</th>\n",
       "      <th>no2</th>\n",
       "      <th>o3</th>\n",
       "      <th>pm10</th>\n",
       "      <th>pm25</th>\n",
       "      <th>so2</th>\n",
       "      <th>county</th>\n",
       "    </tr>\n",
       "  </thead>\n",
       "  <tbody>\n",
       "  </tbody>\n",
       "</table>\n",
       "</div>"
      ],
      "text/plain": [
       "Empty DataFrame\n",
       "Columns: [Date, Country, City, co, no2, o3, pm10, pm25, so2, county]\n",
       "Index: []"
      ]
     },
     "execution_count": 89,
     "metadata": {},
     "output_type": "execute_result"
    }
   ],
   "source": [
    "# Merge AQI and Covid data on Date and County\n",
    "df_merged_right = (pd.merge(df_2019_USA_POLLUTANT, df_city_county, on=['City'], how='left', indicator=True)\n",
    ".query('_merge == \"right_only\"')\n",
    ".drop('_merge', 1))\n",
    "\n",
    "#df_merged = df_2019_USA_POLLUTANT.join(df_city_dedup, on=['City'], how='left')\n",
    "df_merged_right.head(20)"
   ]
  },
  {
   "cell_type": "code",
   "execution_count": 84,
   "id": "86828cf9",
   "metadata": {},
   "outputs": [
    {
     "name": "stdout",
     "output_type": "stream",
     "text": [
      "<class 'pandas.core.frame.DataFrame'>\n",
      "Int64Index: 0 entries\n",
      "Data columns (total 10 columns):\n",
      " #   Column   Non-Null Count  Dtype  \n",
      "---  ------   --------------  -----  \n",
      " 0   Date     0 non-null      object \n",
      " 1   Country  0 non-null      object \n",
      " 2   City     0 non-null      object \n",
      " 3   co       0 non-null      float64\n",
      " 4   no2      0 non-null      float64\n",
      " 5   o3       0 non-null      float64\n",
      " 6   pm10     0 non-null      float64\n",
      " 7   pm25     0 non-null      float64\n",
      " 8   so2      0 non-null      float64\n",
      " 9   county   0 non-null      object \n",
      "dtypes: float64(6), object(4)\n",
      "memory usage: 0.0+ bytes\n"
     ]
    }
   ],
   "source": [
    "df_merged_right.info()"
   ]
  },
  {
   "cell_type": "code",
   "execution_count": 68,
   "id": "69c2b211",
   "metadata": {},
   "outputs": [
    {
     "name": "stdout",
     "output_type": "stream",
     "text": [
      "<class 'pandas.core.frame.DataFrame'>\n",
      "Int64Index: 36499 entries, 0 to 36498\n",
      "Data columns (total 10 columns):\n",
      " #   Column   Non-Null Count  Dtype  \n",
      "---  ------   --------------  -----  \n",
      " 0   Date     36499 non-null  object \n",
      " 1   Country  36499 non-null  object \n",
      " 2   City     36499 non-null  object \n",
      " 3   co       20570 non-null  float64\n",
      " 4   no2      20256 non-null  float64\n",
      " 5   o3       29951 non-null  float64\n",
      " 6   pm10     12527 non-null  float64\n",
      " 7   pm25     36109 non-null  float64\n",
      " 8   so2      13270 non-null  float64\n",
      " 9   county   35779 non-null  object \n",
      "dtypes: float64(6), object(4)\n",
      "memory usage: 3.1+ MB\n"
     ]
    }
   ],
   "source": [
    "df_merged.info()"
   ]
  },
  {
   "cell_type": "code",
   "execution_count": 57,
   "id": "60eb8455",
   "metadata": {},
   "outputs": [],
   "source": [
    "df_merged_dedup = df_merged.drop_duplicates()"
   ]
  },
  {
   "cell_type": "code",
   "execution_count": 58,
   "id": "f661b38e",
   "metadata": {},
   "outputs": [
    {
     "name": "stdout",
     "output_type": "stream",
     "text": [
      "<class 'pandas.core.frame.DataFrame'>\n",
      "Int64Index: 36772 entries, 0 to 332212\n",
      "Data columns (total 10 columns):\n",
      " #   Column   Non-Null Count  Dtype  \n",
      "---  ------   --------------  -----  \n",
      " 0   Date     36772 non-null  object \n",
      " 1   Country  36772 non-null  object \n",
      " 2   City     36772 non-null  object \n",
      " 3   co       20793 non-null  float64\n",
      " 4   no2      20512 non-null  float64\n",
      " 5   o3       30187 non-null  float64\n",
      " 6   pm10     12527 non-null  float64\n",
      " 7   pm25     36345 non-null  float64\n",
      " 8   so2      13353 non-null  float64\n",
      " 9   county   35779 non-null  object \n",
      "dtypes: float64(6), object(4)\n",
      "memory usage: 3.1+ MB\n"
     ]
    }
   ],
   "source": [
    "df_merged_dedup.info()"
   ]
  },
  {
   "cell_type": "code",
   "execution_count": 21,
   "id": "33a74130",
   "metadata": {},
   "outputs": [
    {
     "data": {
      "text/plain": [
       "0        False\n",
       "1        False\n",
       "2        False\n",
       "3        False\n",
       "4        False\n",
       "         ...  \n",
       "28938    False\n",
       "28939    False\n",
       "28940     True\n",
       "28941    False\n",
       "28942     True\n",
       "Name: county_name, Length: 28943, dtype: bool"
      ]
     },
     "execution_count": 21,
     "metadata": {},
     "output_type": "execute_result"
    }
   ],
   "source": [
    "df_merged['county_name'].isnull()"
   ]
  },
  {
   "cell_type": "code",
   "execution_count": null,
   "id": "67f854f5",
   "metadata": {},
   "outputs": [],
   "source": []
  }
 ],
 "metadata": {
  "kernelspec": {
   "display_name": "Python 3 (ipykernel)",
   "language": "python",
   "name": "python3"
  },
  "language_info": {
   "codemirror_mode": {
    "name": "ipython",
    "version": 3
   },
   "file_extension": ".py",
   "mimetype": "text/x-python",
   "name": "python",
   "nbconvert_exporter": "python",
   "pygments_lexer": "ipython3",
   "version": "3.9.7"
  }
 },
 "nbformat": 4,
 "nbformat_minor": 5
}
